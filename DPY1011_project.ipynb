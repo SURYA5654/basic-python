{
  "cells": [
    {
      "cell_type": "markdown",
      "metadata": {
        "id": "GkuBd7DaSUqf"
      },
      "source": [
        "Q1: You are working in a bank, and you have been given two lists of the employees who worked in 2021. Employees’ names in list 1 are Ramesh, Suresh, Mahesh, Ali, Jacob, and Saritha. List 2 contains the names of Ali, Mukesh, Mahesh, Jacob, Sai, and Sarita. Please write a program that helps to identify people who are common in both lists. Please do not use any in-built function. "
      ]
    },
    {
      "cell_type": "code",
      "execution_count": 61,
      "metadata": {
        "colab": {
          "base_uri": "https://localhost:8080/"
        },
        "id": "RTuyPkS7SaoT",
        "outputId": "1b2363d2-6ca0-41b0-f165-ac2efafcf5f1"
      },
      "outputs": [
        {
          "name": "stdout",
          "output_type": "stream",
          "text": [
            "Common names:  ['Mahesh', 'Ali', 'Jacob']\n"
          ]
        }
      ],
      "source": [
        "l1 = ['Ramesh', 'Suresh', 'Mahesh','Ali', 'Jacob','Saritha']\n",
        "l2 = ['Ali','Mukesh','Mahesh','Jacob','Sai','Sarita']\n",
        "\n",
        "common_names = []\n",
        "\n",
        "for i in l1:\n",
        "  for j in l2:\n",
        "    if i == j:\n",
        "      common_names.append(i)\n",
        "\n",
        "print('Common names: ',common_names)"
      ]
    },
    {
      "cell_type": "markdown",
      "metadata": {
        "id": "LJrDyiVRT8Tk"
      },
      "source": [
        "Q2: While entering data, someone entered a few names as a common string “Ramesh Suresh Mohit”. Please write a program which separates all the names and converts them into a list. Once converted into a list, please write a program that adds their age. \n",
        "\n",
        "\n",
        "Ramesh:  25\n",
        "\n",
        "Suresh: 22\n",
        "\n",
        "Mohit: 26"
      ]
    },
    {
      "cell_type": "code",
      "execution_count": 78,
      "metadata": {
        "colab": {
          "base_uri": "https://localhost:8080/"
        },
        "id": "pi02DKhITuod",
        "outputId": "3e1397fe-93e8-49e0-dd35-de1b2bb8e55a"
      },
      "outputs": [
        {
          "name": "stdout",
          "output_type": "stream",
          "text": [
            "Names - ['Ramesh', 'Suresh', 'Mohit']\n",
            "Names : Ages - {'Ramesh': 25, 'Suresh': 22, 'Mohit': 26}\n"
          ]
        }
      ],
      "source": [
        "common_string ='Ramesh Suresh Mohit'\n",
        "\n",
        "name = common_string.split()\n",
        "age = [25,22,26]\n",
        "\n",
        "combine = dict(zip(name,age))\n",
        "\n",
        "print('Names -',name)\n",
        "print('Names : Ages -',combine)\n",
        "\n"
      ]
    },
    {
      "cell_type": "markdown",
      "metadata": {
        "id": "PfGqXukiZSpz"
      },
      "source": [
        "Q3: You are working in a medical store. A patient came to your medical store and asked to buy 2 strips of paracetamol, 3 strips of azithromycin, and 5 strips of Vitamin C. One strip of paracetamol costs Rs 35, one strip of azithromycin costs Rs 49, and one strip of vitamin c costs Rs. 33. Patient gave you Rs 2000. Please tell us what is the total cost of each medicine, the total cost of all medicine, and how much money you refunded to the patient. "
      ]
    },
    {
      "cell_type": "code",
      "execution_count": 59,
      "metadata": {
        "colab": {
          "base_uri": "https://localhost:8080/"
        },
        "id": "sOAr8JHCUoqc",
        "outputId": "a1dc8eb5-a8bd-40da-bfab-5e33654272f2"
      },
      "outputs": [
        {
          "name": "stdout",
          "output_type": "stream",
          "text": [
            "Amount taken:2000\n",
            "No. of paracetamol strips:2\n",
            "No. of azithromycin strips:3\n",
            "No. of vitamin-c strips:5\n",
            "\n",
            "\n",
            "Paracetamol costs: 70\n",
            "Azithromycin costs: 147\n",
            "Vitamin-C costs: 165\n",
            "Billing amount:382 \n",
            "\n",
            "      \n",
            "Refund amount: 1618\n"
          ]
        }
      ],
      "source": [
        "amount = int(input(\"Amount taken:\")) \n",
        "\n",
        "paracip_strips = int(input(\"No. of paracetamol strips:\" ))\n",
        "azithro_strips = int(input(\"No. of azithromycin strips:\" ))\n",
        "vital_c_strips = int(input(\"No. of vitamin-c strips:\" ))\n",
        "\n",
        "med_list = {'Paracetamol':35,'Azithromycin':49,'Vitamin-C':33}\n",
        "\n",
        "paracip = med_list['Paracetamol'] * paracip_strips\n",
        "azithro =  med_list['Azithromycin'] * azithro_strips\n",
        "vitals = med_list['Vitamin-C'] * vital_c_strips\n",
        "billing_amt = paracip+azithro+vitals\n",
        "\n",
        "print(f\"\"\"\n",
        "\n",
        "Paracetamol costs: {paracip}\n",
        "Azithromycin costs: {azithro}\n",
        "Vitamin-C costs: {vitals}\n",
        "Billing amount:{billing_amt} \n",
        "\n",
        "      \"\"\")\n",
        "\n",
        "print(f\"Refund amount:\",amount-billing_amt)"
      ]
    },
    {
      "cell_type": "markdown",
      "metadata": {
        "id": "nqpZMla2e2O3"
      },
      "source": [
        "Q4: Accept a sentence as input and find the number of vowels in it. Assume that the sentence has no punctuation marks. For example, I am learning python contains 6 vowels. This function should be applicable for all other different sentences."
      ]
    },
    {
      "cell_type": "code",
      "execution_count": 51,
      "metadata": {
        "colab": {
          "base_uri": "https://localhost:8080/"
        },
        "id": "yKOjuWumasKU",
        "outputId": "78a064f7-d402-4878-d98b-061f14119c88"
      },
      "outputs": [
        {
          "name": "stdout",
          "output_type": "stream",
          "text": [
            "hi hello how are you\n",
            "The number of vowels in the senetence:  8\n"
          ]
        }
      ],
      "source": [
        "sentence = input()\n",
        "\n",
        "count = 0\n",
        "\n",
        "vowels = ['a','e','i','o','u']\n",
        "\n",
        "for i in range(len(sentence)):\n",
        "  if sentence[i] in vowels:\n",
        "    count += 1\n",
        "print(\"The number of vowels in the senetence: \",count)"
      ]
    },
    {
      "cell_type": "markdown",
      "metadata": {
        "id": "tPZK5oZQhVWF"
      },
      "source": [
        "Q5: You have been appointed by the election commission to create a website. Your first task is to work on a program which tells candidates if they are eligible for voting or not. If they are eligible, your output should be ‘Congrats! You are eligible’; otherwise, it should tell that you have to return after X number of years. The eligibility criteria for voting is 18 years. \n",
        "\n",
        "\n",
        "For example, If someone is 18 or above, your output should be ‘Congrats! You are eligible’. If someone’s age is 15 years, it should print output as ‘return after 3 years’. "
      ]
    },
    {
      "cell_type": "code",
      "execution_count": 34,
      "metadata": {
        "colab": {
          "base_uri": "https://localhost:8080/"
        },
        "id": "bRMqvy8EgpO-",
        "outputId": "20aeb581-f6f1-4592-a200-22bc3b5133ff"
      },
      "outputs": [
        {
          "name": "stdout",
          "output_type": "stream",
          "text": [
            "15\n",
            "Return after 3 years.\n"
          ]
        }
      ],
      "source": [
        "age = int(input())\n",
        "\n",
        "if age >= 18:\n",
        "  print('Congrats! You are eligible')\n",
        "else:\n",
        "  print(f\"Return after {18-age} years.\")"
      ]
    },
    {
      "cell_type": "markdown",
      "metadata": {
        "id": "IMz3FfIwkS5z"
      },
      "source": [
        "Q6: Given a list of integers, find the cumulative sum of the elements of the list and store them in another list.\n",
        "\n",
        "A = [1, 2, 3, 4, 5]\n",
        "\n",
        "Output: \n",
        "\n",
        "[1, 3, 6, 10, 15]\n"
      ]
    },
    {
      "cell_type": "code",
      "execution_count": 44,
      "metadata": {
        "colab": {
          "base_uri": "https://localhost:8080/"
        },
        "id": "KU1q7AEbj-06",
        "outputId": "6c82ad78-7289-4299-bc19-9f4f7e5c4ac8"
      },
      "outputs": [
        {
          "name": "stdout",
          "output_type": "stream",
          "text": [
            "[1, 3, 6, 10, 15]\n"
          ]
        }
      ],
      "source": [
        "\n",
        "A = [1,2,3,4,5]\n",
        "B = []\n",
        "C = 0\n",
        "for i in range(0,len(A)):\n",
        "  C+=A[i]\n",
        "  B.append(C)\n",
        "print(B)\n",
        " "
      ]
    }
  ],
  "metadata": {
    "colab": {
      "provenance": []
    },
    "kernelspec": {
      "display_name": "Python 3",
      "name": "python3"
    },
    "language_info": {
      "name": "python"
    }
  },
  "nbformat": 4,
  "nbformat_minor": 0
}
